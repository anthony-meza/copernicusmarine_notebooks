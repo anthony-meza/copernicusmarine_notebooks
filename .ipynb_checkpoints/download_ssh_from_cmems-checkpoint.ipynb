{
 "cells": [
  {
   "cell_type": "code",
   "execution_count": 1,
   "id": "8d0d37e5-2be8-4efd-a864-b987fae5618d",
   "metadata": {},
   "outputs": [],
   "source": [
    "import requests\n",
    "import xarray as xr\n",
    "import matplotlib.pyplot as plt\n",
    "from datetime import datetime, timedelta"
   ]
  },
  {
   "cell_type": "code",
   "execution_count": null,
   "id": "fc11ed31-b453-4a30-b3ad-baed2d0c1ff6",
   "metadata": {},
   "outputs": [
    {
     "name": "stderr",
     "output_type": "stream",
     "text": [
      "Fetching catalog: 100%|███████████████████████████| 3/3 [00:26<00:00,  8.76s/it]"
     ]
    },
    {
     "name": "stdout",
     "output_type": "stream",
     "text": [
      "INFO - 2024-05-06T00:52:54Z - Dataset version was not specified, the latest one was selected: \"202112\"\n",
      "INFO - 2024-05-06T00:52:54Z - Dataset part was not specified, the first one was selected: \"default\"\n"
     ]
    },
    {
     "name": "stderr",
     "output_type": "stream",
     "text": [
      "\n"
     ]
    },
    {
     "name": "stdout",
     "output_type": "stream",
     "text": [
      "INFO - 2024-05-06T00:52:58Z - Service was not specified, the default one was selected: \"arco-time-series\"\n"
     ]
    }
   ],
   "source": [
    "import copernicusmarine\n",
    "from pprint import pprint\n",
    "\n",
    "#downloading geostrophic velocities from CMEMS Data Store\n",
    "data_request = {\n",
    "   \"longitude\" : [-85, -55], \n",
    "   \"latitude\" : [30, 45],\n",
    "   \"time\" : [\"1992-01-01\", \"2023-12-30\"],\n",
    "   \"variables\" : [\"ugos\", \"ugosa\", \"vgos\", \"vgosa\"]\n",
    "}\n",
    "\n",
    "copernicusmarine.subset(\n",
    "    dataset_id = \"cmems_obs-sl_glo_phy-ssh_my_allsat-l4-duacs-0.25deg_P1D\",\n",
    "    minimum_longitude = data_request[\"longitude\"][0],\n",
    "    maximum_longitude = data_request[\"longitude\"][1],\n",
    "    minimum_latitude = data_request[\"latitude\"][0],\n",
    "    maximum_latitude = data_request[\"latitude\"][1],\n",
    "    start_datetime = data_request[\"time\"][0],\n",
    "    end_datetime = data_request[\"time\"][1],\n",
    "    username = \"ameza\",\n",
    "    password = \"Ameza1998\", \n",
    "    variables = data_request[\"variables\"], \n",
    "    output_directory = \"\", #downloads directly to cwd\n",
    "    output_filename = \"cmems_geos_vel.nc\",\n",
    "\n",
    ")"
   ]
  },
  {
   "cell_type": "code",
   "execution_count": null,
   "id": "995c40e1-e0ab-4077-b319-de2790b0f8e2",
   "metadata": {},
   "outputs": [],
   "source": []
  }
 ],
 "metadata": {
  "kernelspec": {
   "display_name": "Python 3 (ipykernel)",
   "language": "python",
   "name": "python3"
  },
  "language_info": {
   "codemirror_mode": {
    "name": "ipython",
    "version": 3
   },
   "file_extension": ".py",
   "mimetype": "text/x-python",
   "name": "python",
   "nbconvert_exporter": "python",
   "pygments_lexer": "ipython3",
   "version": "3.10.13"
  }
 },
 "nbformat": 4,
 "nbformat_minor": 5
}
