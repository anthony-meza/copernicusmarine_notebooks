{
 "cells": [
  {
   "cell_type": "code",
   "execution_count": 1,
   "id": "8d0d37e5-2be8-4efd-a864-b987fae5618d",
   "metadata": {},
   "outputs": [],
   "source": [
    "import requests\n",
    "import xarray as xr\n",
    "import matplotlib.pyplot as plt\n",
    "from datetime import datetime, timedelta"
   ]
  },
  {
   "cell_type": "code",
   "execution_count": 9,
   "id": "fc11ed31-b453-4a30-b3ad-baed2d0c1ff6",
   "metadata": {},
   "outputs": [
    {
     "name": "stderr",
     "output_type": "stream",
     "text": [
      "Fetching catalog: 100%|███████████████████████████| 3/3 [00:26<00:00,  8.78s/it]"
     ]
    },
    {
     "name": "stdout",
     "output_type": "stream",
     "text": [
      "INFO - 2024-05-06T00:53:37Z - Dataset version was not specified, the latest one was selected: \"202112\"\n",
      "INFO - 2024-05-06T00:53:37Z - Dataset part was not specified, the first one was selected: \"default\"\n"
     ]
    },
    {
     "name": "stderr",
     "output_type": "stream",
     "text": [
      "\n"
     ]
    },
    {
     "name": "stdout",
     "output_type": "stream",
     "text": [
      "INFO - 2024-05-06T00:53:41Z - Service was not specified, the default one was selected: \"arco-time-series\"\n",
      "WARNING - 2024-05-06T00:53:44Z - Some or all of your subset selection [1992-01-01 00:00:00, 2023-12-30 00:00:00] for the time dimension  exceed the dataset coordinates [1993-01-01 00:00:00, 2023-06-07 00:00:00]\n",
      "INFO - 2024-05-06T00:53:44Z - Downloading using service arco-time-series...\n",
      "INFO - 2024-05-06T00:53:48Z - <xarray.Dataset> Size: 3GB\n",
      "Dimensions:    (time: 11115, latitude: 60, longitude: 120)\n",
      "Coordinates:\n",
      "  * latitude   (latitude) float32 240B 30.12 30.38 30.62 ... 44.38 44.62 44.88\n",
      "  * longitude  (longitude) float32 480B -84.88 -84.62 -84.38 ... -55.38 -55.12\n",
      "  * time       (time) datetime64[ns] 89kB 1993-01-01 1993-01-02 ... 2023-06-07\n",
      "Data variables:\n",
      "    ugos       (time, latitude, longitude) float64 640MB dask.array<chunksize=(2153, 16, 8), meta=np.ndarray>\n",
      "    ugosa      (time, latitude, longitude) float64 640MB dask.array<chunksize=(2153, 16, 8), meta=np.ndarray>\n",
      "    vgos       (time, latitude, longitude) float64 640MB dask.array<chunksize=(2153, 16, 8), meta=np.ndarray>\n",
      "    vgosa      (time, latitude, longitude) float64 640MB dask.array<chunksize=(2153, 16, 8), meta=np.ndarray>\n",
      "Attributes: (12/45)\n",
      "    Conventions:                     CF-1.6\n",
      "    Metadata_Conventions:            Unidata Dataset Discovery v1.0\n",
      "    cdm_data_type:                   Grid\n",
      "    comment:                         Sea Surface Height measured by Altimetry...\n",
      "    contact:                         servicedesk.cmems@mercator-ocean.eu\n",
      "    creator_email:                   servicedesk.cmems@mercator-ocean.eu\n",
      "    ...                              ...\n",
      "    time_coverage_duration:          P1D\n",
      "    time_coverage_end:               1993-01-01T12:00:00Z\n",
      "    time_coverage_resolution:        P1D\n",
      "    time_coverage_start:             1992-12-31T12:00:00Z\n",
      "    title:                           DT merged all satellites Global Ocean Gr...\n",
      "    copernicusmarine_version:        1.2.0\n",
      "INFO - 2024-05-06T00:53:48Z - Estimated size of the dataset file is 2443.603 MB.\n",
      "Do you want to proceed with download? [Y/n]:"
     ]
    },
    {
     "name": "stdin",
     "output_type": "stream",
     "text": [
      "  Y\n"
     ]
    },
    {
     "name": "stdout",
     "output_type": "stream",
     "text": [
      "INFO - 2024-05-06T00:53:51Z - Writing to local storage. Please wait...\n"
     ]
    },
    {
     "data": {
      "application/vnd.jupyter.widget-view+json": {
       "model_id": "a9aa5ec4bb07410aa2b16d86a32bed30",
       "version_major": 2,
       "version_minor": 0
      },
      "text/plain": [
       "  0%|          | 0/10082 [00:00<?, ?it/s]"
      ]
     },
     "metadata": {},
     "output_type": "display_data"
    },
    {
     "name": "stdout",
     "output_type": "stream",
     "text": [
      "INFO - 2024-05-06T00:54:59Z - Successfully downloaded to cmems_geos_vel.nc\n"
     ]
    },
    {
     "data": {
      "text/plain": [
       "PosixPath('cmems_geos_vel.nc')"
      ]
     },
     "execution_count": 9,
     "metadata": {},
     "output_type": "execute_result"
    }
   ],
   "source": [
    "import copernicusmarine\n",
    "from pprint import pprint\n",
    "\n",
    "#downloading geostrophic velocities from CMEMS Data Store\n",
    "data_request = {\n",
    "   \"longitude\" : [-85, -55], \n",
    "   \"latitude\" : [30, 45],\n",
    "   \"time\" : [\"1992-01-01\", \"2023-12-30\"],\n",
    "   \"variables\" : [\"ugos\", \"ugosa\", \"vgos\", \"vgosa\"]\n",
    "}\n",
    "\n",
    "copernicusmarine.subset(\n",
    "    dataset_id = \"cmems_obs-sl_glo_phy-ssh_my_allsat-l4-duacs-0.25deg_P1D\",\n",
    "    minimum_longitude = data_request[\"longitude\"][0],\n",
    "    maximum_longitude = data_request[\"longitude\"][1],\n",
    "    minimum_latitude = data_request[\"latitude\"][0],\n",
    "    maximum_latitude = data_request[\"latitude\"][1],\n",
    "    start_datetime = data_request[\"time\"][0],\n",
    "    end_datetime = data_request[\"time\"][1],\n",
    "    username = \"ameza\",\n",
    "    password = \"Ameza1998\", \n",
    "    variables = data_request[\"variables\"], \n",
    "    output_directory = \"\", #downloads directly to cwd\n",
    "    output_filename = \"cmems_geos_vel.nc\",\n",
    "\n",
    ")"
   ]
  },
  {
   "cell_type": "code",
   "execution_count": null,
   "id": "995c40e1-e0ab-4077-b319-de2790b0f8e2",
   "metadata": {},
   "outputs": [],
   "source": []
  }
 ],
 "metadata": {
  "kernelspec": {
   "display_name": "Python 3 (ipykernel)",
   "language": "python",
   "name": "python3"
  },
  "language_info": {
   "codemirror_mode": {
    "name": "ipython",
    "version": 3
   },
   "file_extension": ".py",
   "mimetype": "text/x-python",
   "name": "python",
   "nbconvert_exporter": "python",
   "pygments_lexer": "ipython3",
   "version": "3.10.13"
  }
 },
 "nbformat": 4,
 "nbformat_minor": 5
}
