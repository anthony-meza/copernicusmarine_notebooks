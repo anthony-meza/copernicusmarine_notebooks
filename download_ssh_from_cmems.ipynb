{
 "cells": [
  {
   "cell_type": "code",
   "execution_count": 11,
   "id": "8d0d37e5-2be8-4efd-a864-b987fae5618d",
   "metadata": {},
   "outputs": [],
   "source": [
    "import requests\n",
    "import xarray as xr\n",
    "import matplotlib.pyplot as plt\n",
    "from datetime import datetime, timedelta\n",
    "import copernicusmarine\n",
    "from pprint import pprint"
   ]
  },
  {
   "cell_type": "code",
   "execution_count": 81,
   "id": "ae8e32ee-a6ff-4fe3-9fbe-792463f817f2",
   "metadata": {},
   "outputs": [
    {
     "name": "stdout",
     "output_type": "stream",
     "text": [
      "\u001b[1mabc\u001b[0m\n"
     ]
    }
   ],
   "source": [
    "a_string = \"abc\"\n",
    "bolded_string = f\"\\033[1m{a_string}\\033[0m\"\n",
    "print(bolded_string)"
   ]
  },
  {
   "cell_type": "code",
   "execution_count": 34,
   "id": "0f957f0a-7b56-4a5a-9faa-4b2fd97c6450",
   "metadata": {},
   "outputs": [],
   "source": [
    "dataset_id = \"cmems_obs-sl_glo_phy-ssh_my_allsat-l4-duacs-0.25deg_P1D\""
   ]
  },
  {
   "cell_type": "code",
   "execution_count": 38,
   "id": "13181d52-6746-48b4-b912-c47d8f1cfddb",
   "metadata": {},
   "outputs": [
    {
     "name": "stderr",
     "output_type": "stream",
     "text": [
      "Fetching catalog: 100%|███████████████████████████| 3/3 [00:27<00:00,  9.02s/it]\n"
     ]
    }
   ],
   "source": [
    "catalogue = copernicusmarine.describe(contains=[dataset_id], include_datasets=True)\n",
    "datasets = catalogue['products'][0]['datasets']"
   ]
  },
  {
   "cell_type": "code",
   "execution_count": 95,
   "id": "5b03594b-2ede-4796-a19b-7d4f35a7ded7",
   "metadata": {},
   "outputs": [
    {
     "name": "stdout",
     "output_type": "stream",
     "text": [
      "Dataset Name: DT merged all satellites Global Ocean Gridded SSALTO/DUACS Sea Surface Height L4 product and derived variables\n",
      " \n",
      "Dataset ID:  cmems_obs-sl_glo_phy-ssh_my_allsat-l4-duacs-0.25deg_P1D\n",
      " \n",
      "original-files\n",
      "['adt', 'err_sla', 'err_ugosa', 'err_vgosa', 'flag_ice', 'sla', 'tpa_correction', 'ugos', 'ugosa', 'vgos', 'vgosa']\n",
      " \n",
      "arco-geo-series\n",
      "['adt', 'err_sla', 'err_ugosa', 'err_vgosa', 'flag_ice', 'sla', 'tpa_correction', 'ugos', 'ugosa', 'vgos', 'vgosa']\n",
      " \n",
      "arco-time-series\n",
      "['adt', 'err_sla', 'err_ugosa', 'err_vgosa', 'flag_ice', 'sla', 'tpa_correction', 'ugos', 'ugosa', 'vgos', 'vgosa']\n",
      " \n"
     ]
    }
   ],
   "source": [
    "for d in datasets:\n",
    "    print(\"Dataset Name:\" , d['dataset_name']);     print(\" \")\n",
    "    print(\"Dataset ID: \", d['dataset_id']);     print(\" \")\n",
    "\n",
    "    for service in d['versions'][0]['parts'][0]['services']:\n",
    "        print(service['service_type']['service_name'])\n",
    "        variable_list = []\n",
    "        for variable in service['variables']:\n",
    "            variable_list.append(variable['short_name'])\n",
    "        print(variable_list)\n",
    "        print(\" \")"
   ]
  },
  {
   "cell_type": "code",
   "execution_count": 32,
   "id": "e552d068-6b65-46f9-a0f1-79d816f33524",
   "metadata": {},
   "outputs": [],
   "source": [
    "#downloading geostrophic velocities from CMEMS Data Store\n",
    "data_request = {\n",
    "   \"longitude\" : [-85, -55], \n",
    "   \"latitude\" : [30, 45],\n",
    "   \"time\" : [\"1992-01-01\", \"2023-12-30\"],\n",
    "   \"variables\" : [\"ugos\", \"ugosa\", \"vgos\", \"vgosa\", \"sla\", \"adt\"]\n",
    "}"
   ]
  },
  {
   "cell_type": "code",
   "execution_count": 35,
   "id": "fc11ed31-b453-4a30-b3ad-baed2d0c1ff6",
   "metadata": {},
   "outputs": [
    {
     "name": "stderr",
     "output_type": "stream",
     "text": [
      "Fetching catalog: 100%|███████████████████████████| 3/3 [00:26<00:00,  8.80s/it]"
     ]
    },
    {
     "name": "stdout",
     "output_type": "stream",
     "text": [
      "INFO - 2024-05-09T02:40:16Z - Dataset version was not specified, the latest one was selected: \"202112\"\n",
      "INFO - 2024-05-09T02:40:16Z - Dataset part was not specified, the first one was selected: \"default\"\n"
     ]
    },
    {
     "name": "stderr",
     "output_type": "stream",
     "text": [
      "\n"
     ]
    },
    {
     "name": "stdout",
     "output_type": "stream",
     "text": [
      "INFO - 2024-05-09T02:40:23Z - Service was not specified, the default one was selected: \"arco-time-series\"\n",
      "WARNING - 2024-05-09T02:40:26Z - Some or all of your subset selection [1992-01-01 00:00:00, 2023-12-30 00:00:00] for the time dimension  exceed the dataset coordinates [1993-01-01 00:00:00, 2023-06-07 00:00:00]\n",
      "INFO - 2024-05-09T02:40:26Z - Downloading using service arco-time-series...\n",
      "INFO - 2024-05-09T02:40:30Z - <xarray.Dataset> Size: 6GB\n",
      "Dimensions:         (time: 11115, latitude: 60, longitude: 120, nv: 2)\n",
      "Coordinates:\n",
      "    lat_bnds        (latitude, nv) float32 480B dask.array<chunksize=(16, 2), meta=np.ndarray>\n",
      "  * latitude        (latitude) float32 240B 30.12 30.38 30.62 ... 44.62 44.88\n",
      "    lon_bnds        (longitude, nv) float32 960B dask.array<chunksize=(8, 2), meta=np.ndarray>\n",
      "  * longitude       (longitude) float32 480B -84.88 -84.62 ... -55.38 -55.12\n",
      "  * nv              (nv) int32 8B 0 1\n",
      "  * time            (time) datetime64[ns] 89kB 1993-01-01 ... 2023-06-07\n",
      "Data variables:\n",
      "    adt             (time, latitude, longitude) float64 640MB dask.array<chunksize=(2153, 16, 8), meta=np.ndarray>\n",
      "    err_sla         (time, latitude, longitude) float64 640MB dask.array<chunksize=(2153, 16, 8), meta=np.ndarray>\n",
      "    err_ugosa       (time, latitude, longitude) float64 640MB dask.array<chunksize=(2153, 16, 8), meta=np.ndarray>\n",
      "    err_vgosa       (time, latitude, longitude) float64 640MB dask.array<chunksize=(2153, 16, 8), meta=np.ndarray>\n",
      "    flag_ice        (time, latitude, longitude) float64 640MB dask.array<chunksize=(2153, 16, 8), meta=np.ndarray>\n",
      "    sla             (time, latitude, longitude) float64 640MB dask.array<chunksize=(2153, 16, 8), meta=np.ndarray>\n",
      "    tpa_correction  (time) float64 89kB dask.array<chunksize=(2153,), meta=np.ndarray>\n",
      "    ugos            (time, latitude, longitude) float64 640MB dask.array<chunksize=(2153, 16, 8), meta=np.ndarray>\n",
      "    ugosa           (time, latitude, longitude) float64 640MB dask.array<chunksize=(2153, 16, 8), meta=np.ndarray>\n",
      "    vgos            (time, latitude, longitude) float64 640MB dask.array<chunksize=(2153, 16, 8), meta=np.ndarray>\n",
      "    vgosa           (time, latitude, longitude) float64 640MB dask.array<chunksize=(2153, 16, 8), meta=np.ndarray>\n",
      "Attributes: (12/45)\n",
      "    Conventions:                     CF-1.6\n",
      "    Metadata_Conventions:            Unidata Dataset Discovery v1.0\n",
      "    cdm_data_type:                   Grid\n",
      "    comment:                         Sea Surface Height measured by Altimetry...\n",
      "    contact:                         servicedesk.cmems@mercator-ocean.eu\n",
      "    creator_email:                   servicedesk.cmems@mercator-ocean.eu\n",
      "    ...                              ...\n",
      "    time_coverage_duration:          P1D\n",
      "    time_coverage_end:               1993-01-01T12:00:00Z\n",
      "    time_coverage_resolution:        P1D\n",
      "    time_coverage_start:             1992-12-31T12:00:00Z\n",
      "    title:                           DT merged all satellites Global Ocean Gr...\n",
      "    copernicusmarine_version:        1.2.0\n",
      "INFO - 2024-05-09T02:40:30Z - Estimated size of the dataset file is 13439.817 MB.\n",
      "Do you want to proceed with download? [Y/n]:"
     ]
    },
    {
     "name": "stdout",
     "output_type": "stream",
     "text": [
      "  Y\n"
     ]
    },
    {
     "name": "stdout",
     "output_type": "stream",
     "text": [
      "INFO - 2024-05-09T02:40:33Z - Writing to local storage. Please wait...\n"
     ]
    },
    {
     "data": {
      "application/vnd.jupyter.widget-view+json": {
       "model_id": "d552fc98bda94851af83bf8dba0a507f",
       "version_major": 2,
       "version_minor": 0
      },
      "text/plain": [
       "  0%|          | 0/25275 [00:00<?, ?it/s]"
      ]
     },
     "metadata": {},
     "output_type": "display_data"
    },
    {
     "name": "stdout",
     "output_type": "stream",
     "text": [
      "INFO - 2024-05-09T02:43:48Z - Successfully downloaded to cmems_geos.nc\n"
     ]
    },
    {
     "data": {
      "text/plain": [
       "PosixPath('cmems_geos.nc')"
      ]
     },
     "execution_count": 35,
     "metadata": {},
     "output_type": "execute_result"
    }
   ],
   "source": [
    "copernicusmarine.subset(\n",
    "    dataset_id = dataset_id,\n",
    "    minimum_longitude = data_request[\"longitude\"][0],\n",
    "    maximum_longitude = data_request[\"longitude\"][1],\n",
    "    minimum_latitude = data_request[\"latitude\"][0],\n",
    "    maximum_latitude = data_request[\"latitude\"][1],\n",
    "    start_datetime = data_request[\"time\"][0],\n",
    "    end_datetime = data_request[\"time\"][1],\n",
    "    username = \"username\",\n",
    "    password = \"password\", \n",
    "    output_directory = \"\", #downloads directly to cwd\n",
    "    output_filename = \"cmems_geos.nc\",\n",
    ")"
   ]
  },
  {
   "cell_type": "code",
   "execution_count": null,
   "id": "a664cc76-5177-474d-a7fe-38dab251a99a",
   "metadata": {},
   "outputs": [],
   "source": []
  }
 ],
 "metadata": {
  "kernelspec": {
   "display_name": "Python 3 (ipykernel)",
   "language": "python",
   "name": "python3"
  },
  "language_info": {
   "codemirror_mode": {
    "name": "ipython",
    "version": 3
   },
   "file_extension": ".py",
   "mimetype": "text/x-python",
   "name": "python",
   "nbconvert_exporter": "python",
   "pygments_lexer": "ipython3",
   "version": "3.10.13"
  }
 },
 "nbformat": 4,
 "nbformat_minor": 5
}
